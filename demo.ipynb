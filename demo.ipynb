{
  "cells": [
    {
      "cell_type": "markdown",
      "metadata": {},
      "source": [
        "# 🛡️ Démo Interactive - Assistant RGPD + IA ACT\n",
        "\n",
        "Ce notebook vous permet de tester l'application de manière interactive.\n",
        "\n",
        "## 📋 Prérequis\n",
        "\n",
        "1. Les dépendances sont installées (`pip install -r requirements.txt`)\n",
        "2. Les documents ont été indexés (`python indexer.py`)\n",
        "3. Ollama est en cours d'exécution avec le modèle gemma2:4b\n"
      ]
    },
    {
      "cell_type": "markdown",
      "metadata": {},
      "source": [
        "## 1️⃣ Imports et Configuration\n"
      ]
    },
    {
      "cell_type": "code",
      "execution_count": null,
      "metadata": {},
      "outputs": [],
      "source": [
        "import sys\n",
        "import os\n",
        "\n",
        "# Ajouter le répertoire courant au path\n",
        "sys.path.append(os.getcwd())\n",
        "\n",
        "from rag_chain import RAGChain\n",
        "from indexer import DocumentIndexer\n",
        "import config\n"
      ]
    }
  ],
  "metadata": {
    "language_info": {
      "name": "python"
    }
  },
  "nbformat": 4,
  "nbformat_minor": 2
}
